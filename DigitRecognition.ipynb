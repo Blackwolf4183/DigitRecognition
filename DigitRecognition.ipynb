{
 "cells": [
  {
   "cell_type": "markdown",
   "metadata": {},
   "source": [
    "# Boosting"
   ]
  },
  {
   "cell_type": "markdown",
   "metadata": {},
   "source": [
    "## Carga de datasets"
   ]
  },
  {
   "cell_type": "code",
   "execution_count": 1,
   "metadata": {
    "vscode": {
     "languageId": "r"
    }
   },
   "outputs": [
    {
     "name": "stderr",
     "output_type": "stream",
     "text": [
      "Loading required package: ggplot2\n",
      "\n"
     ]
    },
    {
     "name": "stderr",
     "output_type": "stream",
     "text": [
      "Loading required package: lattice\n",
      "\n",
      "\n",
      "Attaching package: ‘dplyr’\n",
      "\n",
      "\n",
      "The following objects are masked from ‘package:stats’:\n",
      "\n",
      "    filter, lag\n",
      "\n",
      "\n",
      "The following objects are masked from ‘package:base’:\n",
      "\n",
      "    intersect, setdiff, setequal, union\n",
      "\n",
      "\n",
      "\n",
      "Attaching package: ‘caretEnsemble’\n",
      "\n",
      "\n",
      "The following object is masked from ‘package:ggplot2’:\n",
      "\n",
      "    autoplot\n",
      "\n",
      "\n"
     ]
    }
   ],
   "source": [
    "library(caret)\n",
    "library(dplyr)\n",
    "library(caretEnsemble)\n",
    "library(mlbench)\n",
    "\n",
    "digit_train <- read.csv(\"./train.csv\")\n",
    "digit_test <- read.csv(\"./test.csv\")\n",
    "\n",
    "digit_train$label <- as.factor(digit_train$label)"
   ]
  },
  {
   "cell_type": "code",
   "execution_count": 2,
   "metadata": {
    "vscode": {
     "languageId": "r"
    }
   },
   "outputs": [],
   "source": [
    "train_perc <- 0.75\n",
    "train_index <- createDataPartition(digit_train$label,\n",
    "                                   p = train_perc,\n",
    "                                   list = FALSE)\n",
    "\n",
    "data_train <- digit_train[train_index, ]\n",
    "data_test <- digit_train[-train_index, ]"
   ]
  },
  {
   "cell_type": "markdown",
   "metadata": {},
   "source": [
    "## Visualizamos el dataset"
   ]
  },
  {
   "cell_type": "code",
   "execution_count": 3,
   "metadata": {
    "vscode": {
     "languageId": "r"
    }
   },
   "outputs": [
    {
     "data": {
      "text/html": [
       "<table class=\"dataframe\">\n",
       "<caption>A data.frame: 31503 × 785</caption>\n",
       "<thead>\n",
       "\t<tr><th></th><th scope=col>label</th><th scope=col>pixel0</th><th scope=col>pixel1</th><th scope=col>pixel2</th><th scope=col>pixel3</th><th scope=col>pixel4</th><th scope=col>pixel5</th><th scope=col>pixel6</th><th scope=col>pixel7</th><th scope=col>pixel8</th><th scope=col>⋯</th><th scope=col>pixel774</th><th scope=col>pixel775</th><th scope=col>pixel776</th><th scope=col>pixel777</th><th scope=col>pixel778</th><th scope=col>pixel779</th><th scope=col>pixel780</th><th scope=col>pixel781</th><th scope=col>pixel782</th><th scope=col>pixel783</th></tr>\n",
       "\t<tr><th></th><th scope=col>&lt;fct&gt;</th><th scope=col>&lt;int&gt;</th><th scope=col>&lt;int&gt;</th><th scope=col>&lt;int&gt;</th><th scope=col>&lt;int&gt;</th><th scope=col>&lt;int&gt;</th><th scope=col>&lt;int&gt;</th><th scope=col>&lt;int&gt;</th><th scope=col>&lt;int&gt;</th><th scope=col>&lt;int&gt;</th><th scope=col>⋯</th><th scope=col>&lt;int&gt;</th><th scope=col>&lt;int&gt;</th><th scope=col>&lt;int&gt;</th><th scope=col>&lt;int&gt;</th><th scope=col>&lt;int&gt;</th><th scope=col>&lt;int&gt;</th><th scope=col>&lt;int&gt;</th><th scope=col>&lt;int&gt;</th><th scope=col>&lt;int&gt;</th><th scope=col>&lt;int&gt;</th></tr>\n",
       "</thead>\n",
       "<tbody>\n",
       "\t<tr><th scope=row>1</th><td>1</td><td>0</td><td>0</td><td>0</td><td>0</td><td>0</td><td>0</td><td>0</td><td>0</td><td>0</td><td>⋯</td><td>0</td><td>0</td><td>0</td><td>0</td><td>0</td><td>0</td><td>0</td><td>0</td><td>0</td><td>0</td></tr>\n",
       "\t<tr><th scope=row>3</th><td>1</td><td>0</td><td>0</td><td>0</td><td>0</td><td>0</td><td>0</td><td>0</td><td>0</td><td>0</td><td>⋯</td><td>0</td><td>0</td><td>0</td><td>0</td><td>0</td><td>0</td><td>0</td><td>0</td><td>0</td><td>0</td></tr>\n",
       "\t<tr><th scope=row>4</th><td>4</td><td>0</td><td>0</td><td>0</td><td>0</td><td>0</td><td>0</td><td>0</td><td>0</td><td>0</td><td>⋯</td><td>0</td><td>0</td><td>0</td><td>0</td><td>0</td><td>0</td><td>0</td><td>0</td><td>0</td><td>0</td></tr>\n",
       "\t<tr><th scope=row>6</th><td>0</td><td>0</td><td>0</td><td>0</td><td>0</td><td>0</td><td>0</td><td>0</td><td>0</td><td>0</td><td>⋯</td><td>0</td><td>0</td><td>0</td><td>0</td><td>0</td><td>0</td><td>0</td><td>0</td><td>0</td><td>0</td></tr>\n",
       "\t<tr><th scope=row>7</th><td>7</td><td>0</td><td>0</td><td>0</td><td>0</td><td>0</td><td>0</td><td>0</td><td>0</td><td>0</td><td>⋯</td><td>0</td><td>0</td><td>0</td><td>0</td><td>0</td><td>0</td><td>0</td><td>0</td><td>0</td><td>0</td></tr>\n",
       "\t<tr><th scope=row>9</th><td>5</td><td>0</td><td>0</td><td>0</td><td>0</td><td>0</td><td>0</td><td>0</td><td>0</td><td>0</td><td>⋯</td><td>0</td><td>0</td><td>0</td><td>0</td><td>0</td><td>0</td><td>0</td><td>0</td><td>0</td><td>0</td></tr>\n",
       "\t<tr><th scope=row>10</th><td>3</td><td>0</td><td>0</td><td>0</td><td>0</td><td>0</td><td>0</td><td>0</td><td>0</td><td>0</td><td>⋯</td><td>0</td><td>0</td><td>0</td><td>0</td><td>0</td><td>0</td><td>0</td><td>0</td><td>0</td><td>0</td></tr>\n",
       "\t<tr><th scope=row>11</th><td>8</td><td>0</td><td>0</td><td>0</td><td>0</td><td>0</td><td>0</td><td>0</td><td>0</td><td>0</td><td>⋯</td><td>0</td><td>0</td><td>0</td><td>0</td><td>0</td><td>0</td><td>0</td><td>0</td><td>0</td><td>0</td></tr>\n",
       "\t<tr><th scope=row>12</th><td>9</td><td>0</td><td>0</td><td>0</td><td>0</td><td>0</td><td>0</td><td>0</td><td>0</td><td>0</td><td>⋯</td><td>0</td><td>0</td><td>0</td><td>0</td><td>0</td><td>0</td><td>0</td><td>0</td><td>0</td><td>0</td></tr>\n",
       "\t<tr><th scope=row>13</th><td>1</td><td>0</td><td>0</td><td>0</td><td>0</td><td>0</td><td>0</td><td>0</td><td>0</td><td>0</td><td>⋯</td><td>0</td><td>0</td><td>0</td><td>0</td><td>0</td><td>0</td><td>0</td><td>0</td><td>0</td><td>0</td></tr>\n",
       "\t<tr><th scope=row>14</th><td>3</td><td>0</td><td>0</td><td>0</td><td>0</td><td>0</td><td>0</td><td>0</td><td>0</td><td>0</td><td>⋯</td><td>0</td><td>0</td><td>0</td><td>0</td><td>0</td><td>0</td><td>0</td><td>0</td><td>0</td><td>0</td></tr>\n",
       "\t<tr><th scope=row>15</th><td>3</td><td>0</td><td>0</td><td>0</td><td>0</td><td>0</td><td>0</td><td>0</td><td>0</td><td>0</td><td>⋯</td><td>0</td><td>0</td><td>0</td><td>0</td><td>0</td><td>0</td><td>0</td><td>0</td><td>0</td><td>0</td></tr>\n",
       "\t<tr><th scope=row>16</th><td>1</td><td>0</td><td>0</td><td>0</td><td>0</td><td>0</td><td>0</td><td>0</td><td>0</td><td>0</td><td>⋯</td><td>0</td><td>0</td><td>0</td><td>0</td><td>0</td><td>0</td><td>0</td><td>0</td><td>0</td><td>0</td></tr>\n",
       "\t<tr><th scope=row>17</th><td>2</td><td>0</td><td>0</td><td>0</td><td>0</td><td>0</td><td>0</td><td>0</td><td>0</td><td>0</td><td>⋯</td><td>0</td><td>0</td><td>0</td><td>0</td><td>0</td><td>0</td><td>0</td><td>0</td><td>0</td><td>0</td></tr>\n",
       "\t<tr><th scope=row>18</th><td>0</td><td>0</td><td>0</td><td>0</td><td>0</td><td>0</td><td>0</td><td>0</td><td>0</td><td>0</td><td>⋯</td><td>0</td><td>0</td><td>0</td><td>0</td><td>0</td><td>0</td><td>0</td><td>0</td><td>0</td><td>0</td></tr>\n",
       "\t<tr><th scope=row>19</th><td>7</td><td>0</td><td>0</td><td>0</td><td>0</td><td>0</td><td>0</td><td>0</td><td>0</td><td>0</td><td>⋯</td><td>0</td><td>0</td><td>0</td><td>0</td><td>0</td><td>0</td><td>0</td><td>0</td><td>0</td><td>0</td></tr>\n",
       "\t<tr><th scope=row>20</th><td>5</td><td>0</td><td>0</td><td>0</td><td>0</td><td>0</td><td>0</td><td>0</td><td>0</td><td>0</td><td>⋯</td><td>0</td><td>0</td><td>0</td><td>0</td><td>0</td><td>0</td><td>0</td><td>0</td><td>0</td><td>0</td></tr>\n",
       "\t<tr><th scope=row>22</th><td>6</td><td>0</td><td>0</td><td>0</td><td>0</td><td>0</td><td>0</td><td>0</td><td>0</td><td>0</td><td>⋯</td><td>0</td><td>0</td><td>0</td><td>0</td><td>0</td><td>0</td><td>0</td><td>0</td><td>0</td><td>0</td></tr>\n",
       "\t<tr><th scope=row>23</th><td>2</td><td>0</td><td>0</td><td>0</td><td>0</td><td>0</td><td>0</td><td>0</td><td>0</td><td>0</td><td>⋯</td><td>0</td><td>0</td><td>0</td><td>0</td><td>0</td><td>0</td><td>0</td><td>0</td><td>0</td><td>0</td></tr>\n",
       "\t<tr><th scope=row>25</th><td>2</td><td>0</td><td>0</td><td>0</td><td>0</td><td>0</td><td>0</td><td>0</td><td>0</td><td>0</td><td>⋯</td><td>0</td><td>0</td><td>0</td><td>0</td><td>0</td><td>0</td><td>0</td><td>0</td><td>0</td><td>0</td></tr>\n",
       "\t<tr><th scope=row>26</th><td>3</td><td>0</td><td>0</td><td>0</td><td>0</td><td>0</td><td>0</td><td>0</td><td>0</td><td>0</td><td>⋯</td><td>0</td><td>0</td><td>0</td><td>0</td><td>0</td><td>0</td><td>0</td><td>0</td><td>0</td><td>0</td></tr>\n",
       "\t<tr><th scope=row>27</th><td>6</td><td>0</td><td>0</td><td>0</td><td>0</td><td>0</td><td>0</td><td>0</td><td>0</td><td>0</td><td>⋯</td><td>0</td><td>0</td><td>0</td><td>0</td><td>0</td><td>0</td><td>0</td><td>0</td><td>0</td><td>0</td></tr>\n",
       "\t<tr><th scope=row>28</th><td>9</td><td>0</td><td>0</td><td>0</td><td>0</td><td>0</td><td>0</td><td>0</td><td>0</td><td>0</td><td>⋯</td><td>0</td><td>0</td><td>0</td><td>0</td><td>0</td><td>0</td><td>0</td><td>0</td><td>0</td><td>0</td></tr>\n",
       "\t<tr><th scope=row>29</th><td>9</td><td>0</td><td>0</td><td>0</td><td>0</td><td>0</td><td>0</td><td>0</td><td>0</td><td>0</td><td>⋯</td><td>0</td><td>0</td><td>0</td><td>0</td><td>0</td><td>0</td><td>0</td><td>0</td><td>0</td><td>0</td></tr>\n",
       "\t<tr><th scope=row>31</th><td>8</td><td>0</td><td>0</td><td>0</td><td>0</td><td>0</td><td>0</td><td>0</td><td>0</td><td>0</td><td>⋯</td><td>0</td><td>0</td><td>0</td><td>0</td><td>0</td><td>0</td><td>0</td><td>0</td><td>0</td><td>0</td></tr>\n",
       "\t<tr><th scope=row>32</th><td>9</td><td>0</td><td>0</td><td>0</td><td>0</td><td>0</td><td>0</td><td>0</td><td>0</td><td>0</td><td>⋯</td><td>0</td><td>0</td><td>0</td><td>0</td><td>0</td><td>0</td><td>0</td><td>0</td><td>0</td><td>0</td></tr>\n",
       "\t<tr><th scope=row>33</th><td>4</td><td>0</td><td>0</td><td>0</td><td>0</td><td>0</td><td>0</td><td>0</td><td>0</td><td>0</td><td>⋯</td><td>0</td><td>0</td><td>0</td><td>0</td><td>0</td><td>0</td><td>0</td><td>0</td><td>0</td><td>0</td></tr>\n",
       "\t<tr><th scope=row>34</th><td>9</td><td>0</td><td>0</td><td>0</td><td>0</td><td>0</td><td>0</td><td>0</td><td>0</td><td>0</td><td>⋯</td><td>0</td><td>0</td><td>0</td><td>0</td><td>0</td><td>0</td><td>0</td><td>0</td><td>0</td><td>0</td></tr>\n",
       "\t<tr><th scope=row>37</th><td>3</td><td>0</td><td>0</td><td>0</td><td>0</td><td>0</td><td>0</td><td>0</td><td>0</td><td>0</td><td>⋯</td><td>0</td><td>0</td><td>0</td><td>0</td><td>0</td><td>0</td><td>0</td><td>0</td><td>0</td><td>0</td></tr>\n",
       "\t<tr><th scope=row>41</th><td>9</td><td>0</td><td>0</td><td>0</td><td>0</td><td>0</td><td>0</td><td>0</td><td>0</td><td>0</td><td>⋯</td><td>0</td><td>0</td><td>0</td><td>0</td><td>0</td><td>0</td><td>0</td><td>0</td><td>0</td><td>0</td></tr>\n",
       "\t<tr><th scope=row>⋮</th><td>⋮</td><td>⋮</td><td>⋮</td><td>⋮</td><td>⋮</td><td>⋮</td><td>⋮</td><td>⋮</td><td>⋮</td><td>⋮</td><td>⋱</td><td>⋮</td><td>⋮</td><td>⋮</td><td>⋮</td><td>⋮</td><td>⋮</td><td>⋮</td><td>⋮</td><td>⋮</td><td>⋮</td></tr>\n",
       "\t<tr><th scope=row>41960</th><td>9</td><td>0</td><td>0</td><td>0</td><td>0</td><td>0</td><td>0</td><td>0</td><td>0</td><td>0</td><td>⋯</td><td> 0</td><td>  0</td><td>  0</td><td>0</td><td>0</td><td>0</td><td>0</td><td>0</td><td>0</td><td>0</td></tr>\n",
       "\t<tr><th scope=row>41961</th><td>1</td><td>0</td><td>0</td><td>0</td><td>0</td><td>0</td><td>0</td><td>0</td><td>0</td><td>0</td><td>⋯</td><td> 0</td><td>  0</td><td>  0</td><td>0</td><td>0</td><td>0</td><td>0</td><td>0</td><td>0</td><td>0</td></tr>\n",
       "\t<tr><th scope=row>41962</th><td>8</td><td>0</td><td>0</td><td>0</td><td>0</td><td>0</td><td>0</td><td>0</td><td>0</td><td>0</td><td>⋯</td><td> 0</td><td>  0</td><td>  0</td><td>0</td><td>0</td><td>0</td><td>0</td><td>0</td><td>0</td><td>0</td></tr>\n",
       "\t<tr><th scope=row>41963</th><td>9</td><td>0</td><td>0</td><td>0</td><td>0</td><td>0</td><td>0</td><td>0</td><td>0</td><td>0</td><td>⋯</td><td> 0</td><td>  0</td><td>  0</td><td>0</td><td>0</td><td>0</td><td>0</td><td>0</td><td>0</td><td>0</td></tr>\n",
       "\t<tr><th scope=row>41965</th><td>8</td><td>0</td><td>0</td><td>0</td><td>0</td><td>0</td><td>0</td><td>0</td><td>0</td><td>0</td><td>⋯</td><td> 0</td><td>  0</td><td>  0</td><td>0</td><td>0</td><td>0</td><td>0</td><td>0</td><td>0</td><td>0</td></tr>\n",
       "\t<tr><th scope=row>41967</th><td>4</td><td>0</td><td>0</td><td>0</td><td>0</td><td>0</td><td>0</td><td>0</td><td>0</td><td>0</td><td>⋯</td><td> 0</td><td>  0</td><td>  0</td><td>0</td><td>0</td><td>0</td><td>0</td><td>0</td><td>0</td><td>0</td></tr>\n",
       "\t<tr><th scope=row>41969</th><td>0</td><td>0</td><td>0</td><td>0</td><td>0</td><td>0</td><td>0</td><td>0</td><td>0</td><td>0</td><td>⋯</td><td> 0</td><td>  0</td><td>  0</td><td>0</td><td>0</td><td>0</td><td>0</td><td>0</td><td>0</td><td>0</td></tr>\n",
       "\t<tr><th scope=row>41970</th><td>9</td><td>0</td><td>0</td><td>0</td><td>0</td><td>0</td><td>0</td><td>0</td><td>0</td><td>0</td><td>⋯</td><td> 0</td><td>  0</td><td>  0</td><td>0</td><td>0</td><td>0</td><td>0</td><td>0</td><td>0</td><td>0</td></tr>\n",
       "\t<tr><th scope=row>41971</th><td>2</td><td>0</td><td>0</td><td>0</td><td>0</td><td>0</td><td>0</td><td>0</td><td>0</td><td>0</td><td>⋯</td><td> 0</td><td>  0</td><td>  0</td><td>0</td><td>0</td><td>0</td><td>0</td><td>0</td><td>0</td><td>0</td></tr>\n",
       "\t<tr><th scope=row>41972</th><td>3</td><td>0</td><td>0</td><td>0</td><td>0</td><td>0</td><td>0</td><td>0</td><td>0</td><td>0</td><td>⋯</td><td> 0</td><td>  0</td><td>  0</td><td>0</td><td>0</td><td>0</td><td>0</td><td>0</td><td>0</td><td>0</td></tr>\n",
       "\t<tr><th scope=row>41973</th><td>4</td><td>0</td><td>0</td><td>0</td><td>0</td><td>0</td><td>0</td><td>0</td><td>0</td><td>0</td><td>⋯</td><td> 0</td><td>  0</td><td>  0</td><td>0</td><td>0</td><td>0</td><td>0</td><td>0</td><td>0</td><td>0</td></tr>\n",
       "\t<tr><th scope=row>41976</th><td>9</td><td>0</td><td>0</td><td>0</td><td>0</td><td>0</td><td>0</td><td>0</td><td>0</td><td>0</td><td>⋯</td><td> 0</td><td>  0</td><td>  0</td><td>0</td><td>0</td><td>0</td><td>0</td><td>0</td><td>0</td><td>0</td></tr>\n",
       "\t<tr><th scope=row>41977</th><td>2</td><td>0</td><td>0</td><td>0</td><td>0</td><td>0</td><td>0</td><td>0</td><td>0</td><td>0</td><td>⋯</td><td> 0</td><td>  0</td><td>  0</td><td>0</td><td>0</td><td>0</td><td>0</td><td>0</td><td>0</td><td>0</td></tr>\n",
       "\t<tr><th scope=row>41979</th><td>4</td><td>0</td><td>0</td><td>0</td><td>0</td><td>0</td><td>0</td><td>0</td><td>0</td><td>0</td><td>⋯</td><td> 0</td><td>  0</td><td>  0</td><td>0</td><td>0</td><td>0</td><td>0</td><td>0</td><td>0</td><td>0</td></tr>\n",
       "\t<tr><th scope=row>41981</th><td>7</td><td>0</td><td>0</td><td>0</td><td>0</td><td>0</td><td>0</td><td>0</td><td>0</td><td>0</td><td>⋯</td><td>27</td><td>253</td><td>110</td><td>0</td><td>0</td><td>0</td><td>0</td><td>0</td><td>0</td><td>0</td></tr>\n",
       "\t<tr><th scope=row>41982</th><td>2</td><td>0</td><td>0</td><td>0</td><td>0</td><td>0</td><td>0</td><td>0</td><td>0</td><td>0</td><td>⋯</td><td> 0</td><td>  0</td><td>  0</td><td>0</td><td>0</td><td>0</td><td>0</td><td>0</td><td>0</td><td>0</td></tr>\n",
       "\t<tr><th scope=row>41983</th><td>8</td><td>0</td><td>0</td><td>0</td><td>0</td><td>0</td><td>0</td><td>0</td><td>0</td><td>0</td><td>⋯</td><td> 0</td><td>  0</td><td>  0</td><td>0</td><td>0</td><td>0</td><td>0</td><td>0</td><td>0</td><td>0</td></tr>\n",
       "\t<tr><th scope=row>41984</th><td>7</td><td>0</td><td>0</td><td>0</td><td>0</td><td>0</td><td>0</td><td>0</td><td>0</td><td>0</td><td>⋯</td><td> 0</td><td>  0</td><td>  0</td><td>0</td><td>0</td><td>0</td><td>0</td><td>0</td><td>0</td><td>0</td></tr>\n",
       "\t<tr><th scope=row>41985</th><td>3</td><td>0</td><td>0</td><td>0</td><td>0</td><td>0</td><td>0</td><td>0</td><td>0</td><td>0</td><td>⋯</td><td> 0</td><td>  0</td><td>  0</td><td>0</td><td>0</td><td>0</td><td>0</td><td>0</td><td>0</td><td>0</td></tr>\n",
       "\t<tr><th scope=row>41987</th><td>0</td><td>0</td><td>0</td><td>0</td><td>0</td><td>0</td><td>0</td><td>0</td><td>0</td><td>0</td><td>⋯</td><td> 0</td><td>  0</td><td>  0</td><td>0</td><td>0</td><td>0</td><td>0</td><td>0</td><td>0</td><td>0</td></tr>\n",
       "\t<tr><th scope=row>41988</th><td>5</td><td>0</td><td>0</td><td>0</td><td>0</td><td>0</td><td>0</td><td>0</td><td>0</td><td>0</td><td>⋯</td><td> 0</td><td>  0</td><td>  0</td><td>0</td><td>0</td><td>0</td><td>0</td><td>0</td><td>0</td><td>0</td></tr>\n",
       "\t<tr><th scope=row>41989</th><td>0</td><td>0</td><td>0</td><td>0</td><td>0</td><td>0</td><td>0</td><td>0</td><td>0</td><td>0</td><td>⋯</td><td> 0</td><td>  0</td><td>  0</td><td>0</td><td>0</td><td>0</td><td>0</td><td>0</td><td>0</td><td>0</td></tr>\n",
       "\t<tr><th scope=row>41990</th><td>5</td><td>0</td><td>0</td><td>0</td><td>0</td><td>0</td><td>0</td><td>0</td><td>0</td><td>0</td><td>⋯</td><td> 0</td><td>  0</td><td>  0</td><td>0</td><td>0</td><td>0</td><td>0</td><td>0</td><td>0</td><td>0</td></tr>\n",
       "\t<tr><th scope=row>41991</th><td>3</td><td>0</td><td>0</td><td>0</td><td>0</td><td>0</td><td>0</td><td>0</td><td>0</td><td>0</td><td>⋯</td><td> 0</td><td>  0</td><td>  0</td><td>0</td><td>0</td><td>0</td><td>0</td><td>0</td><td>0</td><td>0</td></tr>\n",
       "\t<tr><th scope=row>41993</th><td>9</td><td>0</td><td>0</td><td>0</td><td>0</td><td>0</td><td>0</td><td>0</td><td>0</td><td>0</td><td>⋯</td><td> 0</td><td>  0</td><td>  0</td><td>0</td><td>0</td><td>0</td><td>0</td><td>0</td><td>0</td><td>0</td></tr>\n",
       "\t<tr><th scope=row>41996</th><td>0</td><td>0</td><td>0</td><td>0</td><td>0</td><td>0</td><td>0</td><td>0</td><td>0</td><td>0</td><td>⋯</td><td> 0</td><td>  0</td><td>  0</td><td>0</td><td>0</td><td>0</td><td>0</td><td>0</td><td>0</td><td>0</td></tr>\n",
       "\t<tr><th scope=row>41997</th><td>1</td><td>0</td><td>0</td><td>0</td><td>0</td><td>0</td><td>0</td><td>0</td><td>0</td><td>0</td><td>⋯</td><td> 0</td><td>  0</td><td>  0</td><td>0</td><td>0</td><td>0</td><td>0</td><td>0</td><td>0</td><td>0</td></tr>\n",
       "\t<tr><th scope=row>41998</th><td>7</td><td>0</td><td>0</td><td>0</td><td>0</td><td>0</td><td>0</td><td>0</td><td>0</td><td>0</td><td>⋯</td><td> 0</td><td>  0</td><td>  0</td><td>0</td><td>0</td><td>0</td><td>0</td><td>0</td><td>0</td><td>0</td></tr>\n",
       "\t<tr><th scope=row>41999</th><td>6</td><td>0</td><td>0</td><td>0</td><td>0</td><td>0</td><td>0</td><td>0</td><td>0</td><td>0</td><td>⋯</td><td> 0</td><td>  0</td><td>  0</td><td>0</td><td>0</td><td>0</td><td>0</td><td>0</td><td>0</td><td>0</td></tr>\n",
       "\t<tr><th scope=row>42000</th><td>9</td><td>0</td><td>0</td><td>0</td><td>0</td><td>0</td><td>0</td><td>0</td><td>0</td><td>0</td><td>⋯</td><td> 0</td><td>  0</td><td>  0</td><td>0</td><td>0</td><td>0</td><td>0</td><td>0</td><td>0</td><td>0</td></tr>\n",
       "</tbody>\n",
       "</table>\n"
      ],
      "text/latex": [
       "A data.frame: 31503 × 785\n",
       "\\begin{tabular}{r|lllllllllllllllllllll}\n",
       "  & label & pixel0 & pixel1 & pixel2 & pixel3 & pixel4 & pixel5 & pixel6 & pixel7 & pixel8 & ⋯ & pixel774 & pixel775 & pixel776 & pixel777 & pixel778 & pixel779 & pixel780 & pixel781 & pixel782 & pixel783\\\\\n",
       "  & <fct> & <int> & <int> & <int> & <int> & <int> & <int> & <int> & <int> & <int> & ⋯ & <int> & <int> & <int> & <int> & <int> & <int> & <int> & <int> & <int> & <int>\\\\\n",
       "\\hline\n",
       "\t1 & 1 & 0 & 0 & 0 & 0 & 0 & 0 & 0 & 0 & 0 & ⋯ & 0 & 0 & 0 & 0 & 0 & 0 & 0 & 0 & 0 & 0\\\\\n",
       "\t3 & 1 & 0 & 0 & 0 & 0 & 0 & 0 & 0 & 0 & 0 & ⋯ & 0 & 0 & 0 & 0 & 0 & 0 & 0 & 0 & 0 & 0\\\\\n",
       "\t4 & 4 & 0 & 0 & 0 & 0 & 0 & 0 & 0 & 0 & 0 & ⋯ & 0 & 0 & 0 & 0 & 0 & 0 & 0 & 0 & 0 & 0\\\\\n",
       "\t6 & 0 & 0 & 0 & 0 & 0 & 0 & 0 & 0 & 0 & 0 & ⋯ & 0 & 0 & 0 & 0 & 0 & 0 & 0 & 0 & 0 & 0\\\\\n",
       "\t7 & 7 & 0 & 0 & 0 & 0 & 0 & 0 & 0 & 0 & 0 & ⋯ & 0 & 0 & 0 & 0 & 0 & 0 & 0 & 0 & 0 & 0\\\\\n",
       "\t9 & 5 & 0 & 0 & 0 & 0 & 0 & 0 & 0 & 0 & 0 & ⋯ & 0 & 0 & 0 & 0 & 0 & 0 & 0 & 0 & 0 & 0\\\\\n",
       "\t10 & 3 & 0 & 0 & 0 & 0 & 0 & 0 & 0 & 0 & 0 & ⋯ & 0 & 0 & 0 & 0 & 0 & 0 & 0 & 0 & 0 & 0\\\\\n",
       "\t11 & 8 & 0 & 0 & 0 & 0 & 0 & 0 & 0 & 0 & 0 & ⋯ & 0 & 0 & 0 & 0 & 0 & 0 & 0 & 0 & 0 & 0\\\\\n",
       "\t12 & 9 & 0 & 0 & 0 & 0 & 0 & 0 & 0 & 0 & 0 & ⋯ & 0 & 0 & 0 & 0 & 0 & 0 & 0 & 0 & 0 & 0\\\\\n",
       "\t13 & 1 & 0 & 0 & 0 & 0 & 0 & 0 & 0 & 0 & 0 & ⋯ & 0 & 0 & 0 & 0 & 0 & 0 & 0 & 0 & 0 & 0\\\\\n",
       "\t14 & 3 & 0 & 0 & 0 & 0 & 0 & 0 & 0 & 0 & 0 & ⋯ & 0 & 0 & 0 & 0 & 0 & 0 & 0 & 0 & 0 & 0\\\\\n",
       "\t15 & 3 & 0 & 0 & 0 & 0 & 0 & 0 & 0 & 0 & 0 & ⋯ & 0 & 0 & 0 & 0 & 0 & 0 & 0 & 0 & 0 & 0\\\\\n",
       "\t16 & 1 & 0 & 0 & 0 & 0 & 0 & 0 & 0 & 0 & 0 & ⋯ & 0 & 0 & 0 & 0 & 0 & 0 & 0 & 0 & 0 & 0\\\\\n",
       "\t17 & 2 & 0 & 0 & 0 & 0 & 0 & 0 & 0 & 0 & 0 & ⋯ & 0 & 0 & 0 & 0 & 0 & 0 & 0 & 0 & 0 & 0\\\\\n",
       "\t18 & 0 & 0 & 0 & 0 & 0 & 0 & 0 & 0 & 0 & 0 & ⋯ & 0 & 0 & 0 & 0 & 0 & 0 & 0 & 0 & 0 & 0\\\\\n",
       "\t19 & 7 & 0 & 0 & 0 & 0 & 0 & 0 & 0 & 0 & 0 & ⋯ & 0 & 0 & 0 & 0 & 0 & 0 & 0 & 0 & 0 & 0\\\\\n",
       "\t20 & 5 & 0 & 0 & 0 & 0 & 0 & 0 & 0 & 0 & 0 & ⋯ & 0 & 0 & 0 & 0 & 0 & 0 & 0 & 0 & 0 & 0\\\\\n",
       "\t22 & 6 & 0 & 0 & 0 & 0 & 0 & 0 & 0 & 0 & 0 & ⋯ & 0 & 0 & 0 & 0 & 0 & 0 & 0 & 0 & 0 & 0\\\\\n",
       "\t23 & 2 & 0 & 0 & 0 & 0 & 0 & 0 & 0 & 0 & 0 & ⋯ & 0 & 0 & 0 & 0 & 0 & 0 & 0 & 0 & 0 & 0\\\\\n",
       "\t25 & 2 & 0 & 0 & 0 & 0 & 0 & 0 & 0 & 0 & 0 & ⋯ & 0 & 0 & 0 & 0 & 0 & 0 & 0 & 0 & 0 & 0\\\\\n",
       "\t26 & 3 & 0 & 0 & 0 & 0 & 0 & 0 & 0 & 0 & 0 & ⋯ & 0 & 0 & 0 & 0 & 0 & 0 & 0 & 0 & 0 & 0\\\\\n",
       "\t27 & 6 & 0 & 0 & 0 & 0 & 0 & 0 & 0 & 0 & 0 & ⋯ & 0 & 0 & 0 & 0 & 0 & 0 & 0 & 0 & 0 & 0\\\\\n",
       "\t28 & 9 & 0 & 0 & 0 & 0 & 0 & 0 & 0 & 0 & 0 & ⋯ & 0 & 0 & 0 & 0 & 0 & 0 & 0 & 0 & 0 & 0\\\\\n",
       "\t29 & 9 & 0 & 0 & 0 & 0 & 0 & 0 & 0 & 0 & 0 & ⋯ & 0 & 0 & 0 & 0 & 0 & 0 & 0 & 0 & 0 & 0\\\\\n",
       "\t31 & 8 & 0 & 0 & 0 & 0 & 0 & 0 & 0 & 0 & 0 & ⋯ & 0 & 0 & 0 & 0 & 0 & 0 & 0 & 0 & 0 & 0\\\\\n",
       "\t32 & 9 & 0 & 0 & 0 & 0 & 0 & 0 & 0 & 0 & 0 & ⋯ & 0 & 0 & 0 & 0 & 0 & 0 & 0 & 0 & 0 & 0\\\\\n",
       "\t33 & 4 & 0 & 0 & 0 & 0 & 0 & 0 & 0 & 0 & 0 & ⋯ & 0 & 0 & 0 & 0 & 0 & 0 & 0 & 0 & 0 & 0\\\\\n",
       "\t34 & 9 & 0 & 0 & 0 & 0 & 0 & 0 & 0 & 0 & 0 & ⋯ & 0 & 0 & 0 & 0 & 0 & 0 & 0 & 0 & 0 & 0\\\\\n",
       "\t37 & 3 & 0 & 0 & 0 & 0 & 0 & 0 & 0 & 0 & 0 & ⋯ & 0 & 0 & 0 & 0 & 0 & 0 & 0 & 0 & 0 & 0\\\\\n",
       "\t41 & 9 & 0 & 0 & 0 & 0 & 0 & 0 & 0 & 0 & 0 & ⋯ & 0 & 0 & 0 & 0 & 0 & 0 & 0 & 0 & 0 & 0\\\\\n",
       "\t⋮ & ⋮ & ⋮ & ⋮ & ⋮ & ⋮ & ⋮ & ⋮ & ⋮ & ⋮ & ⋮ & ⋱ & ⋮ & ⋮ & ⋮ & ⋮ & ⋮ & ⋮ & ⋮ & ⋮ & ⋮ & ⋮\\\\\n",
       "\t41960 & 9 & 0 & 0 & 0 & 0 & 0 & 0 & 0 & 0 & 0 & ⋯ &  0 &   0 &   0 & 0 & 0 & 0 & 0 & 0 & 0 & 0\\\\\n",
       "\t41961 & 1 & 0 & 0 & 0 & 0 & 0 & 0 & 0 & 0 & 0 & ⋯ &  0 &   0 &   0 & 0 & 0 & 0 & 0 & 0 & 0 & 0\\\\\n",
       "\t41962 & 8 & 0 & 0 & 0 & 0 & 0 & 0 & 0 & 0 & 0 & ⋯ &  0 &   0 &   0 & 0 & 0 & 0 & 0 & 0 & 0 & 0\\\\\n",
       "\t41963 & 9 & 0 & 0 & 0 & 0 & 0 & 0 & 0 & 0 & 0 & ⋯ &  0 &   0 &   0 & 0 & 0 & 0 & 0 & 0 & 0 & 0\\\\\n",
       "\t41965 & 8 & 0 & 0 & 0 & 0 & 0 & 0 & 0 & 0 & 0 & ⋯ &  0 &   0 &   0 & 0 & 0 & 0 & 0 & 0 & 0 & 0\\\\\n",
       "\t41967 & 4 & 0 & 0 & 0 & 0 & 0 & 0 & 0 & 0 & 0 & ⋯ &  0 &   0 &   0 & 0 & 0 & 0 & 0 & 0 & 0 & 0\\\\\n",
       "\t41969 & 0 & 0 & 0 & 0 & 0 & 0 & 0 & 0 & 0 & 0 & ⋯ &  0 &   0 &   0 & 0 & 0 & 0 & 0 & 0 & 0 & 0\\\\\n",
       "\t41970 & 9 & 0 & 0 & 0 & 0 & 0 & 0 & 0 & 0 & 0 & ⋯ &  0 &   0 &   0 & 0 & 0 & 0 & 0 & 0 & 0 & 0\\\\\n",
       "\t41971 & 2 & 0 & 0 & 0 & 0 & 0 & 0 & 0 & 0 & 0 & ⋯ &  0 &   0 &   0 & 0 & 0 & 0 & 0 & 0 & 0 & 0\\\\\n",
       "\t41972 & 3 & 0 & 0 & 0 & 0 & 0 & 0 & 0 & 0 & 0 & ⋯ &  0 &   0 &   0 & 0 & 0 & 0 & 0 & 0 & 0 & 0\\\\\n",
       "\t41973 & 4 & 0 & 0 & 0 & 0 & 0 & 0 & 0 & 0 & 0 & ⋯ &  0 &   0 &   0 & 0 & 0 & 0 & 0 & 0 & 0 & 0\\\\\n",
       "\t41976 & 9 & 0 & 0 & 0 & 0 & 0 & 0 & 0 & 0 & 0 & ⋯ &  0 &   0 &   0 & 0 & 0 & 0 & 0 & 0 & 0 & 0\\\\\n",
       "\t41977 & 2 & 0 & 0 & 0 & 0 & 0 & 0 & 0 & 0 & 0 & ⋯ &  0 &   0 &   0 & 0 & 0 & 0 & 0 & 0 & 0 & 0\\\\\n",
       "\t41979 & 4 & 0 & 0 & 0 & 0 & 0 & 0 & 0 & 0 & 0 & ⋯ &  0 &   0 &   0 & 0 & 0 & 0 & 0 & 0 & 0 & 0\\\\\n",
       "\t41981 & 7 & 0 & 0 & 0 & 0 & 0 & 0 & 0 & 0 & 0 & ⋯ & 27 & 253 & 110 & 0 & 0 & 0 & 0 & 0 & 0 & 0\\\\\n",
       "\t41982 & 2 & 0 & 0 & 0 & 0 & 0 & 0 & 0 & 0 & 0 & ⋯ &  0 &   0 &   0 & 0 & 0 & 0 & 0 & 0 & 0 & 0\\\\\n",
       "\t41983 & 8 & 0 & 0 & 0 & 0 & 0 & 0 & 0 & 0 & 0 & ⋯ &  0 &   0 &   0 & 0 & 0 & 0 & 0 & 0 & 0 & 0\\\\\n",
       "\t41984 & 7 & 0 & 0 & 0 & 0 & 0 & 0 & 0 & 0 & 0 & ⋯ &  0 &   0 &   0 & 0 & 0 & 0 & 0 & 0 & 0 & 0\\\\\n",
       "\t41985 & 3 & 0 & 0 & 0 & 0 & 0 & 0 & 0 & 0 & 0 & ⋯ &  0 &   0 &   0 & 0 & 0 & 0 & 0 & 0 & 0 & 0\\\\\n",
       "\t41987 & 0 & 0 & 0 & 0 & 0 & 0 & 0 & 0 & 0 & 0 & ⋯ &  0 &   0 &   0 & 0 & 0 & 0 & 0 & 0 & 0 & 0\\\\\n",
       "\t41988 & 5 & 0 & 0 & 0 & 0 & 0 & 0 & 0 & 0 & 0 & ⋯ &  0 &   0 &   0 & 0 & 0 & 0 & 0 & 0 & 0 & 0\\\\\n",
       "\t41989 & 0 & 0 & 0 & 0 & 0 & 0 & 0 & 0 & 0 & 0 & ⋯ &  0 &   0 &   0 & 0 & 0 & 0 & 0 & 0 & 0 & 0\\\\\n",
       "\t41990 & 5 & 0 & 0 & 0 & 0 & 0 & 0 & 0 & 0 & 0 & ⋯ &  0 &   0 &   0 & 0 & 0 & 0 & 0 & 0 & 0 & 0\\\\\n",
       "\t41991 & 3 & 0 & 0 & 0 & 0 & 0 & 0 & 0 & 0 & 0 & ⋯ &  0 &   0 &   0 & 0 & 0 & 0 & 0 & 0 & 0 & 0\\\\\n",
       "\t41993 & 9 & 0 & 0 & 0 & 0 & 0 & 0 & 0 & 0 & 0 & ⋯ &  0 &   0 &   0 & 0 & 0 & 0 & 0 & 0 & 0 & 0\\\\\n",
       "\t41996 & 0 & 0 & 0 & 0 & 0 & 0 & 0 & 0 & 0 & 0 & ⋯ &  0 &   0 &   0 & 0 & 0 & 0 & 0 & 0 & 0 & 0\\\\\n",
       "\t41997 & 1 & 0 & 0 & 0 & 0 & 0 & 0 & 0 & 0 & 0 & ⋯ &  0 &   0 &   0 & 0 & 0 & 0 & 0 & 0 & 0 & 0\\\\\n",
       "\t41998 & 7 & 0 & 0 & 0 & 0 & 0 & 0 & 0 & 0 & 0 & ⋯ &  0 &   0 &   0 & 0 & 0 & 0 & 0 & 0 & 0 & 0\\\\\n",
       "\t41999 & 6 & 0 & 0 & 0 & 0 & 0 & 0 & 0 & 0 & 0 & ⋯ &  0 &   0 &   0 & 0 & 0 & 0 & 0 & 0 & 0 & 0\\\\\n",
       "\t42000 & 9 & 0 & 0 & 0 & 0 & 0 & 0 & 0 & 0 & 0 & ⋯ &  0 &   0 &   0 & 0 & 0 & 0 & 0 & 0 & 0 & 0\\\\\n",
       "\\end{tabular}\n"
      ],
      "text/markdown": [
       "\n",
       "A data.frame: 31503 × 785\n",
       "\n",
       "| <!--/--> | label &lt;fct&gt; | pixel0 &lt;int&gt; | pixel1 &lt;int&gt; | pixel2 &lt;int&gt; | pixel3 &lt;int&gt; | pixel4 &lt;int&gt; | pixel5 &lt;int&gt; | pixel6 &lt;int&gt; | pixel7 &lt;int&gt; | pixel8 &lt;int&gt; | ⋯ ⋯ | pixel774 &lt;int&gt; | pixel775 &lt;int&gt; | pixel776 &lt;int&gt; | pixel777 &lt;int&gt; | pixel778 &lt;int&gt; | pixel779 &lt;int&gt; | pixel780 &lt;int&gt; | pixel781 &lt;int&gt; | pixel782 &lt;int&gt; | pixel783 &lt;int&gt; |\n",
       "|---|---|---|---|---|---|---|---|---|---|---|---|---|---|---|---|---|---|---|---|---|---|\n",
       "| 1 | 1 | 0 | 0 | 0 | 0 | 0 | 0 | 0 | 0 | 0 | ⋯ | 0 | 0 | 0 | 0 | 0 | 0 | 0 | 0 | 0 | 0 |\n",
       "| 3 | 1 | 0 | 0 | 0 | 0 | 0 | 0 | 0 | 0 | 0 | ⋯ | 0 | 0 | 0 | 0 | 0 | 0 | 0 | 0 | 0 | 0 |\n",
       "| 4 | 4 | 0 | 0 | 0 | 0 | 0 | 0 | 0 | 0 | 0 | ⋯ | 0 | 0 | 0 | 0 | 0 | 0 | 0 | 0 | 0 | 0 |\n",
       "| 6 | 0 | 0 | 0 | 0 | 0 | 0 | 0 | 0 | 0 | 0 | ⋯ | 0 | 0 | 0 | 0 | 0 | 0 | 0 | 0 | 0 | 0 |\n",
       "| 7 | 7 | 0 | 0 | 0 | 0 | 0 | 0 | 0 | 0 | 0 | ⋯ | 0 | 0 | 0 | 0 | 0 | 0 | 0 | 0 | 0 | 0 |\n",
       "| 9 | 5 | 0 | 0 | 0 | 0 | 0 | 0 | 0 | 0 | 0 | ⋯ | 0 | 0 | 0 | 0 | 0 | 0 | 0 | 0 | 0 | 0 |\n",
       "| 10 | 3 | 0 | 0 | 0 | 0 | 0 | 0 | 0 | 0 | 0 | ⋯ | 0 | 0 | 0 | 0 | 0 | 0 | 0 | 0 | 0 | 0 |\n",
       "| 11 | 8 | 0 | 0 | 0 | 0 | 0 | 0 | 0 | 0 | 0 | ⋯ | 0 | 0 | 0 | 0 | 0 | 0 | 0 | 0 | 0 | 0 |\n",
       "| 12 | 9 | 0 | 0 | 0 | 0 | 0 | 0 | 0 | 0 | 0 | ⋯ | 0 | 0 | 0 | 0 | 0 | 0 | 0 | 0 | 0 | 0 |\n",
       "| 13 | 1 | 0 | 0 | 0 | 0 | 0 | 0 | 0 | 0 | 0 | ⋯ | 0 | 0 | 0 | 0 | 0 | 0 | 0 | 0 | 0 | 0 |\n",
       "| 14 | 3 | 0 | 0 | 0 | 0 | 0 | 0 | 0 | 0 | 0 | ⋯ | 0 | 0 | 0 | 0 | 0 | 0 | 0 | 0 | 0 | 0 |\n",
       "| 15 | 3 | 0 | 0 | 0 | 0 | 0 | 0 | 0 | 0 | 0 | ⋯ | 0 | 0 | 0 | 0 | 0 | 0 | 0 | 0 | 0 | 0 |\n",
       "| 16 | 1 | 0 | 0 | 0 | 0 | 0 | 0 | 0 | 0 | 0 | ⋯ | 0 | 0 | 0 | 0 | 0 | 0 | 0 | 0 | 0 | 0 |\n",
       "| 17 | 2 | 0 | 0 | 0 | 0 | 0 | 0 | 0 | 0 | 0 | ⋯ | 0 | 0 | 0 | 0 | 0 | 0 | 0 | 0 | 0 | 0 |\n",
       "| 18 | 0 | 0 | 0 | 0 | 0 | 0 | 0 | 0 | 0 | 0 | ⋯ | 0 | 0 | 0 | 0 | 0 | 0 | 0 | 0 | 0 | 0 |\n",
       "| 19 | 7 | 0 | 0 | 0 | 0 | 0 | 0 | 0 | 0 | 0 | ⋯ | 0 | 0 | 0 | 0 | 0 | 0 | 0 | 0 | 0 | 0 |\n",
       "| 20 | 5 | 0 | 0 | 0 | 0 | 0 | 0 | 0 | 0 | 0 | ⋯ | 0 | 0 | 0 | 0 | 0 | 0 | 0 | 0 | 0 | 0 |\n",
       "| 22 | 6 | 0 | 0 | 0 | 0 | 0 | 0 | 0 | 0 | 0 | ⋯ | 0 | 0 | 0 | 0 | 0 | 0 | 0 | 0 | 0 | 0 |\n",
       "| 23 | 2 | 0 | 0 | 0 | 0 | 0 | 0 | 0 | 0 | 0 | ⋯ | 0 | 0 | 0 | 0 | 0 | 0 | 0 | 0 | 0 | 0 |\n",
       "| 25 | 2 | 0 | 0 | 0 | 0 | 0 | 0 | 0 | 0 | 0 | ⋯ | 0 | 0 | 0 | 0 | 0 | 0 | 0 | 0 | 0 | 0 |\n",
       "| 26 | 3 | 0 | 0 | 0 | 0 | 0 | 0 | 0 | 0 | 0 | ⋯ | 0 | 0 | 0 | 0 | 0 | 0 | 0 | 0 | 0 | 0 |\n",
       "| 27 | 6 | 0 | 0 | 0 | 0 | 0 | 0 | 0 | 0 | 0 | ⋯ | 0 | 0 | 0 | 0 | 0 | 0 | 0 | 0 | 0 | 0 |\n",
       "| 28 | 9 | 0 | 0 | 0 | 0 | 0 | 0 | 0 | 0 | 0 | ⋯ | 0 | 0 | 0 | 0 | 0 | 0 | 0 | 0 | 0 | 0 |\n",
       "| 29 | 9 | 0 | 0 | 0 | 0 | 0 | 0 | 0 | 0 | 0 | ⋯ | 0 | 0 | 0 | 0 | 0 | 0 | 0 | 0 | 0 | 0 |\n",
       "| 31 | 8 | 0 | 0 | 0 | 0 | 0 | 0 | 0 | 0 | 0 | ⋯ | 0 | 0 | 0 | 0 | 0 | 0 | 0 | 0 | 0 | 0 |\n",
       "| 32 | 9 | 0 | 0 | 0 | 0 | 0 | 0 | 0 | 0 | 0 | ⋯ | 0 | 0 | 0 | 0 | 0 | 0 | 0 | 0 | 0 | 0 |\n",
       "| 33 | 4 | 0 | 0 | 0 | 0 | 0 | 0 | 0 | 0 | 0 | ⋯ | 0 | 0 | 0 | 0 | 0 | 0 | 0 | 0 | 0 | 0 |\n",
       "| 34 | 9 | 0 | 0 | 0 | 0 | 0 | 0 | 0 | 0 | 0 | ⋯ | 0 | 0 | 0 | 0 | 0 | 0 | 0 | 0 | 0 | 0 |\n",
       "| 37 | 3 | 0 | 0 | 0 | 0 | 0 | 0 | 0 | 0 | 0 | ⋯ | 0 | 0 | 0 | 0 | 0 | 0 | 0 | 0 | 0 | 0 |\n",
       "| 41 | 9 | 0 | 0 | 0 | 0 | 0 | 0 | 0 | 0 | 0 | ⋯ | 0 | 0 | 0 | 0 | 0 | 0 | 0 | 0 | 0 | 0 |\n",
       "| ⋮ | ⋮ | ⋮ | ⋮ | ⋮ | ⋮ | ⋮ | ⋮ | ⋮ | ⋮ | ⋮ | ⋱ | ⋮ | ⋮ | ⋮ | ⋮ | ⋮ | ⋮ | ⋮ | ⋮ | ⋮ | ⋮ |\n",
       "| 41960 | 9 | 0 | 0 | 0 | 0 | 0 | 0 | 0 | 0 | 0 | ⋯ |  0 |   0 |   0 | 0 | 0 | 0 | 0 | 0 | 0 | 0 |\n",
       "| 41961 | 1 | 0 | 0 | 0 | 0 | 0 | 0 | 0 | 0 | 0 | ⋯ |  0 |   0 |   0 | 0 | 0 | 0 | 0 | 0 | 0 | 0 |\n",
       "| 41962 | 8 | 0 | 0 | 0 | 0 | 0 | 0 | 0 | 0 | 0 | ⋯ |  0 |   0 |   0 | 0 | 0 | 0 | 0 | 0 | 0 | 0 |\n",
       "| 41963 | 9 | 0 | 0 | 0 | 0 | 0 | 0 | 0 | 0 | 0 | ⋯ |  0 |   0 |   0 | 0 | 0 | 0 | 0 | 0 | 0 | 0 |\n",
       "| 41965 | 8 | 0 | 0 | 0 | 0 | 0 | 0 | 0 | 0 | 0 | ⋯ |  0 |   0 |   0 | 0 | 0 | 0 | 0 | 0 | 0 | 0 |\n",
       "| 41967 | 4 | 0 | 0 | 0 | 0 | 0 | 0 | 0 | 0 | 0 | ⋯ |  0 |   0 |   0 | 0 | 0 | 0 | 0 | 0 | 0 | 0 |\n",
       "| 41969 | 0 | 0 | 0 | 0 | 0 | 0 | 0 | 0 | 0 | 0 | ⋯ |  0 |   0 |   0 | 0 | 0 | 0 | 0 | 0 | 0 | 0 |\n",
       "| 41970 | 9 | 0 | 0 | 0 | 0 | 0 | 0 | 0 | 0 | 0 | ⋯ |  0 |   0 |   0 | 0 | 0 | 0 | 0 | 0 | 0 | 0 |\n",
       "| 41971 | 2 | 0 | 0 | 0 | 0 | 0 | 0 | 0 | 0 | 0 | ⋯ |  0 |   0 |   0 | 0 | 0 | 0 | 0 | 0 | 0 | 0 |\n",
       "| 41972 | 3 | 0 | 0 | 0 | 0 | 0 | 0 | 0 | 0 | 0 | ⋯ |  0 |   0 |   0 | 0 | 0 | 0 | 0 | 0 | 0 | 0 |\n",
       "| 41973 | 4 | 0 | 0 | 0 | 0 | 0 | 0 | 0 | 0 | 0 | ⋯ |  0 |   0 |   0 | 0 | 0 | 0 | 0 | 0 | 0 | 0 |\n",
       "| 41976 | 9 | 0 | 0 | 0 | 0 | 0 | 0 | 0 | 0 | 0 | ⋯ |  0 |   0 |   0 | 0 | 0 | 0 | 0 | 0 | 0 | 0 |\n",
       "| 41977 | 2 | 0 | 0 | 0 | 0 | 0 | 0 | 0 | 0 | 0 | ⋯ |  0 |   0 |   0 | 0 | 0 | 0 | 0 | 0 | 0 | 0 |\n",
       "| 41979 | 4 | 0 | 0 | 0 | 0 | 0 | 0 | 0 | 0 | 0 | ⋯ |  0 |   0 |   0 | 0 | 0 | 0 | 0 | 0 | 0 | 0 |\n",
       "| 41981 | 7 | 0 | 0 | 0 | 0 | 0 | 0 | 0 | 0 | 0 | ⋯ | 27 | 253 | 110 | 0 | 0 | 0 | 0 | 0 | 0 | 0 |\n",
       "| 41982 | 2 | 0 | 0 | 0 | 0 | 0 | 0 | 0 | 0 | 0 | ⋯ |  0 |   0 |   0 | 0 | 0 | 0 | 0 | 0 | 0 | 0 |\n",
       "| 41983 | 8 | 0 | 0 | 0 | 0 | 0 | 0 | 0 | 0 | 0 | ⋯ |  0 |   0 |   0 | 0 | 0 | 0 | 0 | 0 | 0 | 0 |\n",
       "| 41984 | 7 | 0 | 0 | 0 | 0 | 0 | 0 | 0 | 0 | 0 | ⋯ |  0 |   0 |   0 | 0 | 0 | 0 | 0 | 0 | 0 | 0 |\n",
       "| 41985 | 3 | 0 | 0 | 0 | 0 | 0 | 0 | 0 | 0 | 0 | ⋯ |  0 |   0 |   0 | 0 | 0 | 0 | 0 | 0 | 0 | 0 |\n",
       "| 41987 | 0 | 0 | 0 | 0 | 0 | 0 | 0 | 0 | 0 | 0 | ⋯ |  0 |   0 |   0 | 0 | 0 | 0 | 0 | 0 | 0 | 0 |\n",
       "| 41988 | 5 | 0 | 0 | 0 | 0 | 0 | 0 | 0 | 0 | 0 | ⋯ |  0 |   0 |   0 | 0 | 0 | 0 | 0 | 0 | 0 | 0 |\n",
       "| 41989 | 0 | 0 | 0 | 0 | 0 | 0 | 0 | 0 | 0 | 0 | ⋯ |  0 |   0 |   0 | 0 | 0 | 0 | 0 | 0 | 0 | 0 |\n",
       "| 41990 | 5 | 0 | 0 | 0 | 0 | 0 | 0 | 0 | 0 | 0 | ⋯ |  0 |   0 |   0 | 0 | 0 | 0 | 0 | 0 | 0 | 0 |\n",
       "| 41991 | 3 | 0 | 0 | 0 | 0 | 0 | 0 | 0 | 0 | 0 | ⋯ |  0 |   0 |   0 | 0 | 0 | 0 | 0 | 0 | 0 | 0 |\n",
       "| 41993 | 9 | 0 | 0 | 0 | 0 | 0 | 0 | 0 | 0 | 0 | ⋯ |  0 |   0 |   0 | 0 | 0 | 0 | 0 | 0 | 0 | 0 |\n",
       "| 41996 | 0 | 0 | 0 | 0 | 0 | 0 | 0 | 0 | 0 | 0 | ⋯ |  0 |   0 |   0 | 0 | 0 | 0 | 0 | 0 | 0 | 0 |\n",
       "| 41997 | 1 | 0 | 0 | 0 | 0 | 0 | 0 | 0 | 0 | 0 | ⋯ |  0 |   0 |   0 | 0 | 0 | 0 | 0 | 0 | 0 | 0 |\n",
       "| 41998 | 7 | 0 | 0 | 0 | 0 | 0 | 0 | 0 | 0 | 0 | ⋯ |  0 |   0 |   0 | 0 | 0 | 0 | 0 | 0 | 0 | 0 |\n",
       "| 41999 | 6 | 0 | 0 | 0 | 0 | 0 | 0 | 0 | 0 | 0 | ⋯ |  0 |   0 |   0 | 0 | 0 | 0 | 0 | 0 | 0 | 0 |\n",
       "| 42000 | 9 | 0 | 0 | 0 | 0 | 0 | 0 | 0 | 0 | 0 | ⋯ |  0 |   0 |   0 | 0 | 0 | 0 | 0 | 0 | 0 | 0 |\n",
       "\n"
      ],
      "text/plain": [
       "      label pixel0 pixel1 pixel2 pixel3 pixel4 pixel5 pixel6 pixel7 pixel8 ⋯\n",
       "1     1     0      0      0      0      0      0      0      0      0      ⋯\n",
       "3     1     0      0      0      0      0      0      0      0      0      ⋯\n",
       "4     4     0      0      0      0      0      0      0      0      0      ⋯\n",
       "6     0     0      0      0      0      0      0      0      0      0      ⋯\n",
       "7     7     0      0      0      0      0      0      0      0      0      ⋯\n",
       "9     5     0      0      0      0      0      0      0      0      0      ⋯\n",
       "10    3     0      0      0      0      0      0      0      0      0      ⋯\n",
       "11    8     0      0      0      0      0      0      0      0      0      ⋯\n",
       "12    9     0      0      0      0      0      0      0      0      0      ⋯\n",
       "13    1     0      0      0      0      0      0      0      0      0      ⋯\n",
       "14    3     0      0      0      0      0      0      0      0      0      ⋯\n",
       "15    3     0      0      0      0      0      0      0      0      0      ⋯\n",
       "16    1     0      0      0      0      0      0      0      0      0      ⋯\n",
       "17    2     0      0      0      0      0      0      0      0      0      ⋯\n",
       "18    0     0      0      0      0      0      0      0      0      0      ⋯\n",
       "19    7     0      0      0      0      0      0      0      0      0      ⋯\n",
       "20    5     0      0      0      0      0      0      0      0      0      ⋯\n",
       "22    6     0      0      0      0      0      0      0      0      0      ⋯\n",
       "23    2     0      0      0      0      0      0      0      0      0      ⋯\n",
       "25    2     0      0      0      0      0      0      0      0      0      ⋯\n",
       "26    3     0      0      0      0      0      0      0      0      0      ⋯\n",
       "27    6     0      0      0      0      0      0      0      0      0      ⋯\n",
       "28    9     0      0      0      0      0      0      0      0      0      ⋯\n",
       "29    9     0      0      0      0      0      0      0      0      0      ⋯\n",
       "31    8     0      0      0      0      0      0      0      0      0      ⋯\n",
       "32    9     0      0      0      0      0      0      0      0      0      ⋯\n",
       "33    4     0      0      0      0      0      0      0      0      0      ⋯\n",
       "34    9     0      0      0      0      0      0      0      0      0      ⋯\n",
       "37    3     0      0      0      0      0      0      0      0      0      ⋯\n",
       "41    9     0      0      0      0      0      0      0      0      0      ⋯\n",
       "⋮     ⋮     ⋮      ⋮      ⋮      ⋮      ⋮      ⋮      ⋮      ⋮      ⋮      ⋱\n",
       "41960 9     0      0      0      0      0      0      0      0      0      ⋯\n",
       "41961 1     0      0      0      0      0      0      0      0      0      ⋯\n",
       "41962 8     0      0      0      0      0      0      0      0      0      ⋯\n",
       "41963 9     0      0      0      0      0      0      0      0      0      ⋯\n",
       "41965 8     0      0      0      0      0      0      0      0      0      ⋯\n",
       "41967 4     0      0      0      0      0      0      0      0      0      ⋯\n",
       "41969 0     0      0      0      0      0      0      0      0      0      ⋯\n",
       "41970 9     0      0      0      0      0      0      0      0      0      ⋯\n",
       "41971 2     0      0      0      0      0      0      0      0      0      ⋯\n",
       "41972 3     0      0      0      0      0      0      0      0      0      ⋯\n",
       "41973 4     0      0      0      0      0      0      0      0      0      ⋯\n",
       "41976 9     0      0      0      0      0      0      0      0      0      ⋯\n",
       "41977 2     0      0      0      0      0      0      0      0      0      ⋯\n",
       "41979 4     0      0      0      0      0      0      0      0      0      ⋯\n",
       "41981 7     0      0      0      0      0      0      0      0      0      ⋯\n",
       "41982 2     0      0      0      0      0      0      0      0      0      ⋯\n",
       "41983 8     0      0      0      0      0      0      0      0      0      ⋯\n",
       "41984 7     0      0      0      0      0      0      0      0      0      ⋯\n",
       "41985 3     0      0      0      0      0      0      0      0      0      ⋯\n",
       "41987 0     0      0      0      0      0      0      0      0      0      ⋯\n",
       "41988 5     0      0      0      0      0      0      0      0      0      ⋯\n",
       "41989 0     0      0      0      0      0      0      0      0      0      ⋯\n",
       "41990 5     0      0      0      0      0      0      0      0      0      ⋯\n",
       "41991 3     0      0      0      0      0      0      0      0      0      ⋯\n",
       "41993 9     0      0      0      0      0      0      0      0      0      ⋯\n",
       "41996 0     0      0      0      0      0      0      0      0      0      ⋯\n",
       "41997 1     0      0      0      0      0      0      0      0      0      ⋯\n",
       "41998 7     0      0      0      0      0      0      0      0      0      ⋯\n",
       "41999 6     0      0      0      0      0      0      0      0      0      ⋯\n",
       "42000 9     0      0      0      0      0      0      0      0      0      ⋯\n",
       "      pixel774 pixel775 pixel776 pixel777 pixel778 pixel779 pixel780 pixel781\n",
       "1     0        0        0        0        0        0        0        0       \n",
       "3     0        0        0        0        0        0        0        0       \n",
       "4     0        0        0        0        0        0        0        0       \n",
       "6     0        0        0        0        0        0        0        0       \n",
       "7     0        0        0        0        0        0        0        0       \n",
       "9     0        0        0        0        0        0        0        0       \n",
       "10    0        0        0        0        0        0        0        0       \n",
       "11    0        0        0        0        0        0        0        0       \n",
       "12    0        0        0        0        0        0        0        0       \n",
       "13    0        0        0        0        0        0        0        0       \n",
       "14    0        0        0        0        0        0        0        0       \n",
       "15    0        0        0        0        0        0        0        0       \n",
       "16    0        0        0        0        0        0        0        0       \n",
       "17    0        0        0        0        0        0        0        0       \n",
       "18    0        0        0        0        0        0        0        0       \n",
       "19    0        0        0        0        0        0        0        0       \n",
       "20    0        0        0        0        0        0        0        0       \n",
       "22    0        0        0        0        0        0        0        0       \n",
       "23    0        0        0        0        0        0        0        0       \n",
       "25    0        0        0        0        0        0        0        0       \n",
       "26    0        0        0        0        0        0        0        0       \n",
       "27    0        0        0        0        0        0        0        0       \n",
       "28    0        0        0        0        0        0        0        0       \n",
       "29    0        0        0        0        0        0        0        0       \n",
       "31    0        0        0        0        0        0        0        0       \n",
       "32    0        0        0        0        0        0        0        0       \n",
       "33    0        0        0        0        0        0        0        0       \n",
       "34    0        0        0        0        0        0        0        0       \n",
       "37    0        0        0        0        0        0        0        0       \n",
       "41    0        0        0        0        0        0        0        0       \n",
       "⋮     ⋮        ⋮        ⋮        ⋮        ⋮        ⋮        ⋮        ⋮       \n",
       "41960  0         0        0      0        0        0        0        0       \n",
       "41961  0         0        0      0        0        0        0        0       \n",
       "41962  0         0        0      0        0        0        0        0       \n",
       "41963  0         0        0      0        0        0        0        0       \n",
       "41965  0         0        0      0        0        0        0        0       \n",
       "41967  0         0        0      0        0        0        0        0       \n",
       "41969  0         0        0      0        0        0        0        0       \n",
       "41970  0         0        0      0        0        0        0        0       \n",
       "41971  0         0        0      0        0        0        0        0       \n",
       "41972  0         0        0      0        0        0        0        0       \n",
       "41973  0         0        0      0        0        0        0        0       \n",
       "41976  0         0        0      0        0        0        0        0       \n",
       "41977  0         0        0      0        0        0        0        0       \n",
       "41979  0         0        0      0        0        0        0        0       \n",
       "41981 27       253      110      0        0        0        0        0       \n",
       "41982  0         0        0      0        0        0        0        0       \n",
       "41983  0         0        0      0        0        0        0        0       \n",
       "41984  0         0        0      0        0        0        0        0       \n",
       "41985  0         0        0      0        0        0        0        0       \n",
       "41987  0         0        0      0        0        0        0        0       \n",
       "41988  0         0        0      0        0        0        0        0       \n",
       "41989  0         0        0      0        0        0        0        0       \n",
       "41990  0         0        0      0        0        0        0        0       \n",
       "41991  0         0        0      0        0        0        0        0       \n",
       "41993  0         0        0      0        0        0        0        0       \n",
       "41996  0         0        0      0        0        0        0        0       \n",
       "41997  0         0        0      0        0        0        0        0       \n",
       "41998  0         0        0      0        0        0        0        0       \n",
       "41999  0         0        0      0        0        0        0        0       \n",
       "42000  0         0        0      0        0        0        0        0       \n",
       "      pixel782 pixel783\n",
       "1     0        0       \n",
       "3     0        0       \n",
       "4     0        0       \n",
       "6     0        0       \n",
       "7     0        0       \n",
       "9     0        0       \n",
       "10    0        0       \n",
       "11    0        0       \n",
       "12    0        0       \n",
       "13    0        0       \n",
       "14    0        0       \n",
       "15    0        0       \n",
       "16    0        0       \n",
       "17    0        0       \n",
       "18    0        0       \n",
       "19    0        0       \n",
       "20    0        0       \n",
       "22    0        0       \n",
       "23    0        0       \n",
       "25    0        0       \n",
       "26    0        0       \n",
       "27    0        0       \n",
       "28    0        0       \n",
       "29    0        0       \n",
       "31    0        0       \n",
       "32    0        0       \n",
       "33    0        0       \n",
       "34    0        0       \n",
       "37    0        0       \n",
       "41    0        0       \n",
       "⋮     ⋮        ⋮       \n",
       "41960 0        0       \n",
       "41961 0        0       \n",
       "41962 0        0       \n",
       "41963 0        0       \n",
       "41965 0        0       \n",
       "41967 0        0       \n",
       "41969 0        0       \n",
       "41970 0        0       \n",
       "41971 0        0       \n",
       "41972 0        0       \n",
       "41973 0        0       \n",
       "41976 0        0       \n",
       "41977 0        0       \n",
       "41979 0        0       \n",
       "41981 0        0       \n",
       "41982 0        0       \n",
       "41983 0        0       \n",
       "41984 0        0       \n",
       "41985 0        0       \n",
       "41987 0        0       \n",
       "41988 0        0       \n",
       "41989 0        0       \n",
       "41990 0        0       \n",
       "41991 0        0       \n",
       "41993 0        0       \n",
       "41996 0        0       \n",
       "41997 0        0       \n",
       "41998 0        0       \n",
       "41999 0        0       \n",
       "42000 0        0       "
      ]
     },
     "metadata": {},
     "output_type": "display_data"
    }
   ],
   "source": [
    "View(x = data_train)"
   ]
  },
  {
   "cell_type": "markdown",
   "metadata": {},
   "source": [
    "## Entrenamiento"
   ]
  },
  {
   "cell_type": "code",
   "execution_count": 4,
   "metadata": {
    "vscode": {
     "languageId": "r"
    }
   },
   "outputs": [],
   "source": [
    "control <- trainControl(method = \"repeatedcv\", number = 10, repeats = 3)\n",
    "set.seed(Sys.time())\n",
    "metric <- \"Accuracy\""
   ]
  },
  {
   "cell_type": "markdown",
   "metadata": {},
   "source": [
    "### C5.0"
   ]
  },
  {
   "cell_type": "code",
   "execution_count": 5,
   "metadata": {
    "vscode": {
     "languageId": "r"
    }
   },
   "outputs": [],
   "source": [
    "grid <- expand.grid(trials = c(1, 10, 20),\n",
    "                    model = c(\"tree\", \"rules\"),\n",
    "                    winnow = c(TRUE, FALSE))\n",
    "if (file.exists(\"boosting_c50.rds\")) {\n",
    "  model_c50 <- readRDS(file = \"boosting_c50.rds\")\n",
    "} else {\n",
    "  model_c50 <- train(label ~ .,\n",
    "                     data = data_train[1:1000, ],\n",
    "                     method = \"C5.0\",\n",
    "                     metric = metric,\n",
    "                     tuneGrid = grid,\n",
    "                     trControl = control)\n",
    "  saveRDS(model_c50, file = \"boosting_c50.rds\")\n",
    "}"
   ]
  },
  {
   "cell_type": "markdown",
   "metadata": {},
   "source": [
    "### AdaBoost.M1"
   ]
  },
  {
   "cell_type": "code",
   "execution_count": 6,
   "metadata": {
    "vscode": {
     "languageId": "r"
    }
   },
   "outputs": [],
   "source": [
    "grid <- expand.grid(mfinal = (1:3) * 3,\n",
    "                    maxdepth = c(1, 3),\n",
    "                    coeflearn = c(\"Breiman\"))\n",
    "if (file.exists(\"boosting_adaboost.rds\")) {\n",
    "  model_adaboost <- readRDS(file = \"boosting_adaboost.rds\")\n",
    "} else {\n",
    "  model_adaboost <- train(label ~ .,\n",
    "                          data = data_train[1:1000, ],\n",
    "                          method = \"AdaBoost.M1\",\n",
    "                          metric = metric,\n",
    "                          tuneGrid = grid,\n",
    "                          trControl = control)\n",
    "  saveRDS(model_adaboost, file = \"boosting_adaboost.rds\")\n",
    "}"
   ]
  },
  {
   "cell_type": "markdown",
   "metadata": {},
   "source": [
    "### Boosted Linear Model"
   ]
  },
  {
   "cell_type": "code",
   "execution_count": 7,
   "metadata": {
    "vscode": {
     "languageId": "r"
    }
   },
   "outputs": [],
   "source": [
    "grid <- expand.grid(mstop = 150,\n",
    "                    nu = 0.01)\n",
    "if (file.exists(\"boosting_bstlm.rds\")) {\n",
    "  model_bstlm <- readRDS(file = \"boosting_bstlm.rds\")\n",
    "} else {\n",
    "  model_bstlm <- train(label ~ .,\n",
    "                       data = data_train,\n",
    "                       method = \"BstLm\",\n",
    "                       metric = metric,\n",
    "                       tuneGrid = grid,\n",
    "                       trControl = control)\n",
    "  saveRDS(model_bstlm, file = \"boosting_bstlm.rds\")\n",
    "}"
   ]
  },
  {
   "cell_type": "markdown",
   "metadata": {},
   "source": [
    "## Resultados"
   ]
  },
  {
   "cell_type": "code",
   "execution_count": 10,
   "metadata": {
    "vscode": {
     "languageId": "r"
    }
   },
   "outputs": [
    {
     "data": {
      "text/plain": [
       "\n",
       "Call:\n",
       "summary.resamples(object = results)\n",
       "\n",
       "Models: c50, adaboost, bstlm \n",
       "Number of resamples: 30 \n",
       "\n",
       "Accuracy \n",
       "              Min.   1st Qu.    Median      Mean   3rd Qu.      Max. NA's\n",
       "c50      0.8181818 0.8488636 0.8700000 0.8706472 0.8894388 0.9405941    0\n",
       "adaboost 0.4242424 0.4665099 0.4923727 0.5064150 0.5639706 0.6020408    0\n",
       "bstlm    0.1113579 0.1114020 0.1114286 0.1115132 0.1117106 0.1117815    0\n",
       "\n",
       "Kappa \n",
       "              Min.   1st Qu.    Median      Mean   3rd Qu.      Max. NA's\n",
       "c50      0.7974540 0.8320068 0.8552983 0.8560703 0.8769935 0.9339077    0\n",
       "adaboost 0.3572893 0.4049895 0.4338301 0.4496123 0.5133672 0.5563552    0\n",
       "bstlm    0.0000000 0.0000000 0.0000000 0.0000000 0.0000000 0.0000000    0\n"
      ]
     },
     "metadata": {},
     "output_type": "display_data"
    },
    {
     "data": {
      "image/png": "[encoded data removed]",
      "text/plain": [
       "plot without title"
      ]
     },
     "metadata": {
      "image/png": {
       "height": 420,
       "width": 420
      }
     },
     "output_type": "display_data"
    }
   ],
   "source": [
    "results <- resamples(list(c50 = model_c50,\n",
    "                          adaboost = model_adaboost,\n",
    "                          bstlm = model_bstlm))\n",
    "summary(results)\n",
    "dotplot(results)"
   ]
  },
  {
   "cell_type": "markdown",
   "metadata": {},
   "source": [
    "## Test"
   ]
  },
  {
   "cell_type": "markdown",
   "metadata": {},
   "source": [
    "### C5.0"
   ]
  },
  {
   "cell_type": "code",
   "execution_count": 26,
   "metadata": {
    "vscode": {
     "languageId": "r"
    }
   },
   "outputs": [],
   "source": [
    "pred_c50 <- predict(model_c50, data_test[1:1000, ])\n",
    "conf_matrix_c50 <- table(data_test[1:1000, ]$label, pred_c50)"
   ]
  },
  {
   "cell_type": "code",
   "execution_count": 24,
   "metadata": {
    "vscode": {
     "languageId": "r"
    }
   },
   "outputs": [
    {
     "data": {
      "text/plain": [
       "   pred_c50\n",
       "      0   1   2   3   4   5   6   7   8   9\n",
       "  0 105   0   2   0   0   2   1   1   1   0\n",
       "  1   0  86   1   0   0   1   0   1   3   0\n",
       "  2   1   1 104   1   1   0   4   3   0   1\n",
       "  3   2   1   5  78   0  10   1   0   2   3\n",
       "  4   0   0   1   0  89   0   1   1   1   8\n",
       "  5   0   0   0   3   3  64   3   0   1   9\n",
       "  6   3   0   0   0   1   0 100   1   2   0\n",
       "  7   1   0   2   0   0   0   0  88   3   5\n",
       "  8   1   2   1   3   1   4   0   2  77   2\n",
       "  9   1   0   0   1   7   2   0   3   0  81"
      ]
     },
     "metadata": {},
     "output_type": "display_data"
    },
    {
     "name": "stdout",
     "output_type": "stream",
     "text": [
      "Accuracy with C5.0 boosting:  0.872"
     ]
    }
   ],
   "source": [
    "conf_matrix_c50\n",
    "accuracy_c50 <- mean(pred_c50 == data_test[1:1000, ]$label)\n",
    "cat(\"Accuracy with C5.0 boosting: \", accuracy_c50)"
   ]
  },
  {
   "cell_type": "markdown",
   "metadata": {},
   "source": [
    "### AdaBoost.M1"
   ]
  },
  {
   "cell_type": "code",
   "execution_count": null,
   "metadata": {
    "vscode": {
     "languageId": "r"
    }
   },
   "outputs": [],
   "source": [
    "pred_adaboost <- predict(model_adaboost, data_test[1:1000, ])\n",
    "conf_matrix_adaboost <- table(data_test[1:1000, ]$label, pred_adaboost)"
   ]
  },
  {
   "cell_type": "code",
   "execution_count": 27,
   "metadata": {
    "vscode": {
     "languageId": "r"
    }
   },
   "outputs": [
    {
     "data": {
      "text/plain": [
       "   pred_adaboost\n",
       "     0  1  2  3  4  5  6  7  8  9\n",
       "  0 90  0  0  0  1  8  0  2  9  2\n",
       "  1  0 64 25  0  0  0  0  1  1  1\n",
       "  2  2  5 76  0  2 11  0  8  7  5\n",
       "  3  4  8  3  0  1 63  0  9  3 11\n",
       "  4  0  1  1  0 61  1  0 10  7 20\n",
       "  5  2  4  0  0  2 46  0  5  9 15\n",
       "  6  6  1  3  0 25  7  0 11 22 32\n",
       "  7  7  5  5  0  7  4  0 59  1 11\n",
       "  8  1 11 11  0  2  5  0 10 49  4\n",
       "  9  1  3  0  0  5  2  0 12  1 71"
      ]
     },
     "metadata": {},
     "output_type": "display_data"
    },
    {
     "name": "stdout",
     "output_type": "stream",
     "text": [
      "Accuracy with AdaBoost.M1 boosting:  0.516"
     ]
    }
   ],
   "source": [
    "conf_matrix_adaboost\n",
    "accuracy_adaboost <- mean(pred_adaboost == data_test[1:1000, ]$label)\n",
    "cat(\"Accuracy with AdaBoost.M1 boosting: \", accuracy_adaboost)"
   ]
  },
  {
   "cell_type": "markdown",
   "metadata": {},
   "source": [
    "### Boosted Linear Model"
   ]
  },
  {
   "cell_type": "code",
   "execution_count": null,
   "metadata": {
    "vscode": {
     "languageId": "r"
    }
   },
   "outputs": [],
   "source": [
    "pred_bstlm <- predict(model_bstlm, data_test)\n",
    "conf_matrix_bstlm <- table(data_test$label, pred_bstlm)"
   ]
  },
  {
   "cell_type": "code",
   "execution_count": 28,
   "metadata": {
    "vscode": {
     "languageId": "r"
    }
   },
   "outputs": [
    {
     "data": {
      "text/plain": [
       "   pred_bstlm\n",
       "       0    1    2    3    4    5    6    7    8    9\n",
       "  0    0 1033    0    0    0    0    0    0    0    0\n",
       "  1    0 1171    0    0    0    0    0    0    0    0\n",
       "  2    0 1044    0    0    0    0    0    0    0    0\n",
       "  3    0 1087    0    0    0    0    0    0    0    0\n",
       "  4    0 1018    0    0    0    0    0    0    0    0\n",
       "  5    0  948    0    0    0    0    0    0    0    0\n",
       "  6    0 1034    0    0    0    0    0    0    0    0\n",
       "  7    0 1100    0    0    0    0    0    0    0    0\n",
       "  8    0 1015    0    0    0    0    0    0    0    0\n",
       "  9    0 1047    0    0    0    0    0    0    0    0"
      ]
     },
     "metadata": {},
     "output_type": "display_data"
    },
    {
     "name": "stdout",
     "output_type": "stream",
     "text": [
      "Accuracy with Boosted Linear Model boosting:  0.1115557"
     ]
    }
   ],
   "source": [
    "conf_matrix_bstlm\n",
    "accuracy_bstlm <- mean(pred_bstlm == data_test$label)\n",
    "cat(\"Accuracy with Boosted Linear Model boosting: \", accuracy_bstlm)"
   ]
  },
  {
   "cell_type": "markdown",
   "metadata": {},
   "source": [
    "## Conclusión final\n",
    "\n",
    "De las tres posibilidades de boosting, el método C5.0 es el que más precisión reporta (0.872)"
   ]
  }
 ],
 "metadata": {
  "kernelspec": {
   "display_name": "R",
   "language": "R",
   "name": "ir"
  },
  "language_info": {
   "codemirror_mode": "r",
   "file_extension": ".r",
   "mimetype": "text/x-r-source",
   "name": "R",
   "pygments_lexer": "r",
   "version": "4.3.2"
  }
 },
 "nbformat": 4,
 "nbformat_minor": 2
}
